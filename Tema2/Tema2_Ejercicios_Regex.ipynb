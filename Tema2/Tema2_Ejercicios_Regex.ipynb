{
  "cells": [
    {
      "cell_type": "markdown",
      "metadata": {
        "id": "zdZR_N93HGru"
      },
      "source": [
        "# Ejercicios de Expresiones Regulares\n",
        "\n",
        "En este notebook, vamos a trabajar con varios ejercicios de expresiones regulares en Python. Cada ejercicio tiene una descripción detallada de lo que se pide y el código correspondiente para resolverlo."
      ]
    },
    {
      "cell_type": "markdown",
      "metadata": {
        "id": "JiN1XG38HGrv"
      },
      "source": [
        "## Ejercicio 1: Coincidir con una palabra específica\n",
        "\n",
        "En este ejercicio, debes escribir una expresión regular que coincida con la palabra \"Python\" en el texto dado.\n",
        "\n",
        "**Texto**: \"Estoy aprendiendo Python y es muy interesante.\""
      ]
    },
    {
      "cell_type": "code",
      "execution_count": 1,
      "metadata": {
        "id": "ZC4r7G4BHGrw",
        "colab": {
          "base_uri": "https://localhost:8080/"
        },
        "outputId": "f065b06f-904a-4403-9114-2a8dcaf72257"
      },
      "outputs": [
        {
          "output_type": "stream",
          "name": "stdout",
          "text": [
            "['Python']\n"
          ]
        }
      ],
      "source": [
        "import regex\n",
        "\n",
        "texto = \"Estoy aprendiendo Python y es muy interesante.\"\n",
        "patron = regex.compile(r\"Python\")\n",
        "resultado = patron.findall(texto)\n",
        "print(resultado)"
      ]
    },
    {
      "cell_type": "markdown",
      "metadata": {
        "id": "OiJyBjswHGrw"
      },
      "source": [
        "## Ejercicio 2: Coincidir con una dirección de correo electrónico simple\n",
        "\n",
        "En este ejercicio, debes escribir una expresión regular que coincida con una dirección de correo electrónico en el texto dado.\n",
        "\n",
        "**Texto**: \"Mi correo es ejemplo@dominio.com.\""
      ]
    },
    {
      "cell_type": "code",
      "execution_count": 2,
      "metadata": {
        "id": "e9AnIaaGHGrw",
        "colab": {
          "base_uri": "https://localhost:8080/"
        },
        "outputId": "e2044bb6-722c-46b9-d272-34d16d10b536"
      },
      "outputs": [
        {
          "output_type": "stream",
          "name": "stdout",
          "text": [
            "['ejemplo@dominio.com']\n"
          ]
        }
      ],
      "source": [
        "import regex\n",
        "\n",
        "texto = \"Mi correo es ejemplo@dominio.com.\"\n",
        "patron = regex.compile(r\"[a-zA-Z0-9._%+-]+@[a-zA-Z0-9.-]+\\.[a-zA-Z]{2,}\")\n",
        "resultado = patron.findall(texto)\n",
        "print(resultado)\n"
      ]
    },
    {
      "cell_type": "markdown",
      "metadata": {
        "id": "y7vPbF_IHGrw"
      },
      "source": [
        "## Ejercicio 3: Coincidir con una URL simple\n",
        "\n",
        "En este ejercicio, debes escribir una expresión regular que coincida con una URL en el texto dado.\n",
        "\n",
        "**Texto**: \"Visita https://www.ejemplo.com para más información.\""
      ]
    },
    {
      "cell_type": "code",
      "execution_count": 3,
      "metadata": {
        "id": "T-jVnxgMHGrw",
        "colab": {
          "base_uri": "https://localhost:8080/"
        },
        "outputId": "6f4a51e8-566b-4410-ebb3-950c2846225a"
      },
      "outputs": [
        {
          "output_type": "stream",
          "name": "stdout",
          "text": [
            "['https://www.ejemplo.com']\n"
          ]
        }
      ],
      "source": [
        "import regex\n",
        "\n",
        "texto = \"Visita https://www.ejemplo.com para más información.\"\n",
        "patron = regex.compile(r\"https?://[a-zA-Z0-9.-]+\\.[a-zA-Z]{2,}\")\n",
        "resultado = patron.findall(texto)\n",
        "print(resultado)"
      ]
    },
    {
      "cell_type": "markdown",
      "metadata": {
        "id": "497Ze00YHGrw"
      },
      "source": [
        "## Ejercicio 4: Coincidir con una fecha en formato DD/MM/YYYY\n",
        "\n",
        "En este ejercicio, debes escribir una expresión regular que coincida con una fecha en formato DD/MM/YYYY en el texto dado.\n",
        "\n",
        "**Texto**: \"La reunión es el 15/08/2023.\""
      ]
    },
    {
      "cell_type": "code",
      "execution_count": 4,
      "metadata": {
        "id": "1f8ZjUxRHGrx",
        "colab": {
          "base_uri": "https://localhost:8080/"
        },
        "outputId": "3264869a-ccb6-41c6-85f7-c8120e795784"
      },
      "outputs": [
        {
          "output_type": "stream",
          "name": "stdout",
          "text": [
            "['15/08/2023']\n"
          ]
        }
      ],
      "source": [
        "import regex\n",
        "\n",
        "texto = \"La reunión es el 15/08/2023.\"\n",
        "patron = regex.compile(r\"\\b\\d{2}/\\d{2}/\\d{4}\\b\")\n",
        "resultado = patron.findall(texto)\n",
        "print(resultado)"
      ]
    },
    {
      "cell_type": "markdown",
      "metadata": {
        "id": "dPxGISZvHGrx"
      },
      "source": [
        "## Ejercicio 5: Coincidir con una dirección IP\n",
        "\n",
        "En este ejercicio, debes escribir una expresión regular que coincida con una dirección IP en el texto dado.\n",
        "\n",
        "**Texto**: \"La dirección IP del servidor es 192.168.1.1.\""
      ]
    },
    {
      "cell_type": "code",
      "execution_count": 5,
      "metadata": {
        "id": "ZUJe5CzTHGrx",
        "colab": {
          "base_uri": "https://localhost:8080/"
        },
        "outputId": "652440ec-b51b-4d30-cd52-9a77caeb29be"
      },
      "outputs": [
        {
          "output_type": "stream",
          "name": "stdout",
          "text": [
            "['192.168.1.1']\n"
          ]
        }
      ],
      "source": [
        "import regex\n",
        "\n",
        "texto = \"La dirección IP del servidor es 192.168.1.1.\"\n",
        "patron = regex.compile(r\"\\b(?:\\d{1,3}\\.){3}\\d{1,3}\\b\")\n",
        "resultado = patron.findall(texto)\n",
        "print(resultado)"
      ]
    },
    {
      "cell_type": "markdown",
      "metadata": {
        "id": "qBPzJMhAHGrx"
      },
      "source": [
        "## Ejercicio 6: Coincidir con un número de teléfono\n",
        "\n",
        "En este ejercicio, debes escribir una expresión regular que coincida con un número de teléfono en el texto dado.\n",
        "\n",
        "**Texto**: \"Mi número de teléfono es +34 123 456 789.\""
      ]
    },
    {
      "cell_type": "code",
      "execution_count": 6,
      "metadata": {
        "id": "6sKirMz2HGrx",
        "colab": {
          "base_uri": "https://localhost:8080/"
        },
        "outputId": "ac5e75fe-0416-46c9-e956-1f2b836d92a7"
      },
      "outputs": [
        {
          "output_type": "stream",
          "name": "stdout",
          "text": [
            "['+34 123 456 789']\n"
          ]
        }
      ],
      "source": [
        "import regex\n",
        "\n",
        "texto = \"Mi número de teléfono es +34 123 456 789.\"\n",
        "patron = regex.compile(r\"\\+\\d{2} \\d{3} \\d{3} \\d{3}\")\n",
        "resultado = patron.findall(texto)\n",
        "print(resultado)"
      ]
    },
    {
      "cell_type": "markdown",
      "metadata": {
        "id": "p63kx9epHGrx"
      },
      "source": [
        "## Ejercicio 7: Coincidir con una palabra que comience con una letra específica\n",
        "\n",
        "En este ejercicio, debes escribir una expresión regular que coincida con palabras que comiencen con la letra \"A\" en el texto dado.\n",
        "\n",
        "**Texto**: \"Ana y Andrés son amigos.\""
      ]
    },
    {
      "cell_type": "code",
      "execution_count": 7,
      "metadata": {
        "id": "_FRkr5dzHGrx",
        "colab": {
          "base_uri": "https://localhost:8080/"
        },
        "outputId": "daace41d-8163-4cd4-d43c-b84c53bf0d7b"
      },
      "outputs": [
        {
          "output_type": "stream",
          "name": "stdout",
          "text": [
            "['Ana', 'Andrés']\n"
          ]
        }
      ],
      "source": [
        "import regex\n",
        "\n",
        "texto = \"Ana y Andrés son amigos.\"\n",
        "patron = regex.compile(r\"\\bA\\w*\")\n",
        "resultado = patron.findall(texto)\n",
        "print(resultado)"
      ]
    },
    {
      "cell_type": "markdown",
      "metadata": {
        "id": "QylpmdaXHGrx"
      },
      "source": [
        "## Ejercicio 8: Coincidir con una palabra que tenga una longitud específica\n",
        "\n",
        "En este ejercicio, debes escribir una expresión regular que coincida con palabras de 5 letras en el texto dado.\n",
        "\n",
        "**Texto**: \"El perro y el gato son amigos.\""
      ]
    },
    {
      "cell_type": "code",
      "execution_count": 8,
      "metadata": {
        "id": "MHtNqTubHGrx",
        "colab": {
          "base_uri": "https://localhost:8080/"
        },
        "outputId": "b14bd03f-2fbe-4f38-8a03-d3421ec0e308"
      },
      "outputs": [
        {
          "output_type": "stream",
          "name": "stdout",
          "text": [
            "['perro']\n"
          ]
        }
      ],
      "source": [
        "import regex\n",
        "\n",
        "texto = \"El perro y el gato son amigos.\"\n",
        "patron = regex.compile(r\"\\b\\w{5}\\b\")\n",
        "resultado = patron.findall(texto)\n",
        "print(resultado)"
      ]
    },
    {
      "cell_type": "markdown",
      "metadata": {
        "id": "Isae9v34HGrx"
      },
      "source": [
        "## Ejercicio 9: Coincidir con una palabra que contenga solo letras y números\n",
        "\n",
        "En este ejercicio, debes escribir una expresión regular que coincida con palabras que contengan solo letras y números en el texto dado.\n",
        "\n",
        "**Texto**: \"El usuario123 y el admin456 son diferentes.\""
      ]
    },
    {
      "cell_type": "code",
      "execution_count": 9,
      "metadata": {
        "id": "sKyl_zagHGrx",
        "colab": {
          "base_uri": "https://localhost:8080/"
        },
        "outputId": "cdde4dd7-3cd4-4563-9789-4f27d1d7c5ec"
      },
      "outputs": [
        {
          "output_type": "stream",
          "name": "stdout",
          "text": [
            "['usuario123', 'admin456']\n"
          ]
        }
      ],
      "source": [
        "import regex\n",
        "\n",
        "texto = \"El usuario123 y el admin456 son diferentes.\"\n",
        "patron = regex.compile(r\"\\b[a-zA-Z0-9]*[a-zA-Z][0-9][a-zA-Z0-9]*\\b\")\n",
        "resultado = patron.findall(texto)\n",
        "print(resultado)"
      ]
    },
    {
      "cell_type": "markdown",
      "metadata": {
        "id": "OVGsjalJHGrx"
      },
      "source": [
        "## Ejercicio 10: Coincidir con una palabra que contenga letras, números y caracteres especiales\n",
        "\n",
        "En este ejercicio, debes escribir una expresión regular que coincida con palabras que contengan letras, números y caracteres especiales en el texto dado.\n",
        "\n",
        "**Texto**: \"El usuario123! y el admin456@ son diferentes.\""
      ]
    },
    {
      "cell_type": "code",
      "execution_count": 10,
      "metadata": {
        "id": "iiKuE2bJHGrx",
        "colab": {
          "base_uri": "https://localhost:8080/"
        },
        "outputId": "51895f77-6596-485e-f966-4a5e585c12c7"
      },
      "outputs": [
        {
          "output_type": "stream",
          "name": "stdout",
          "text": [
            "['usuario123', 'admin456']\n"
          ]
        }
      ],
      "source": [
        "import regex\n",
        "\n",
        "texto = \"El usuario123! y el admin456@ son diferentes.\"\n",
        "patron = regex.compile(r\"\\b(?=\\w*[@#$%^&*!])(?=\\w*[a-zA-Z])(?=\\w*[0-9])[\\w@#$%^&*!]+\\b\")\n",
        "resultado = patron.findall(texto)\n",
        "print(resultado)\n"
      ]
    },
    {
      "cell_type": "markdown",
      "metadata": {
        "id": "3ZyBkP4pHGrx"
      },
      "source": [
        "## Ejercicio 11: Extraer nombres, correos electrónicos y números de teléfono\n",
        "\n",
        "En este ejercicio, debes escribir una expresión regular que extraiga nombres, correos electrónicos y números de teléfono del texto dado. Genera una tabla con las listas de ejemplos y el número de ejemplos.\n",
        "\n",
        "**Texto**:\n",
        "```\n",
        "texto = \"\"\"\n",
        "Contactos:\n",
        "- Juan Pérez: juan@example.com, +34 123 456 789\n",
        "- María García: maria@example.org, +34 987 654 321\n",
        "- Pedro López: pedro@example.net, +34 555 666 777\n",
        "\"\"\"\n",
        "```"
      ]
    },
    {
      "cell_type": "code",
      "execution_count": 11,
      "metadata": {
        "id": "-CIgkMZ7HGry",
        "colab": {
          "base_uri": "https://localhost:8080/"
        },
        "outputId": "4a3dee2a-6b05-4176-b66f-5f027ec2948f"
      },
      "outputs": [
        {
          "output_type": "stream",
          "name": "stdout",
          "text": [
            "         Nombre Correo Electrónico         Teléfono\n",
            "0    Juan Pérez   juan@example.com  +34 123 456 789\n",
            "1  María García  maria@example.org  +34 987 654 321\n",
            "2   Pedro López  pedro@example.net  +34 555 666 777\n"
          ]
        }
      ],
      "source": [
        "import regex\n",
        "import pandas as pd\n",
        "\n",
        "texto = \"\"\"\n",
        "Contactos:\n",
        "- Juan Pérez: juan@example.com, +34 123 456 789\n",
        "- María García: maria@example.org, +34 987 654 321\n",
        "- Pedro López: pedro@example.net, +34 555 666 777\n",
        "\"\"\"\n",
        "\n",
        "patron = regex.compile(r\"- ([A-Z][a-zñáéíóú]+\\s[A-Z][a-zñáéíóú]+):\\s([a-zA-Z0-9._%+-]+@[a-zA-Z0-9.-]+\\.[a-zA-Z]{2,}),\\s(\\+\\d{2}\\s\\d{3}\\s\\d{3}\\s\\d{3})\")\n",
        "resultados = patron.findall(texto)\n",
        "df = pd.DataFrame(resultados, columns=[\"Nombre\", \"Correo Electrónico\", \"Teléfono\"])\n",
        "print(df)\n"
      ]
    },
    {
      "cell_type": "markdown",
      "metadata": {
        "id": "u1bTiDe-HGry"
      },
      "source": [
        "## Ejercicio 12: Extraer nombres, fechas de nacimiento y direcciones\n",
        "\n",
        "En este ejercicio, debes escribir una expresión regular que extraiga nombres, fechas de nacimiento y direcciones del texto dado. Genera una tabla con las listas de ejemplos y el número de ejemplos.\n",
        "\n",
        "**Texto**:\n",
        "```\n",
        "texto = \"\"\"\n",
        "Personas:\n",
        "- Juan Pérez, 15/08/1985, Calle Mayor 1, Madrid\n",
        "- María García, 22/11/1990, Avenida del Sol 23, Barcelona\n",
        "- Pedro López, 05/03/1978, Plaza de la Luna 5, Valencia\n",
        "\"\"\"\n",
        "```"
      ]
    },
    {
      "cell_type": "code",
      "execution_count": 12,
      "metadata": {
        "id": "VjA4Cg4THGry",
        "colab": {
          "base_uri": "https://localhost:8080/"
        },
        "outputId": "bd77a59f-da9e-4d90-99f5-fbb0025cb1d1"
      },
      "outputs": [
        {
          "output_type": "stream",
          "name": "stdout",
          "text": [
            "         Nombre Fecha de Nacimiento           Dirección     Ciudad\n",
            "0    Juan Pérez          15/08/1985       Calle Mayor 1     Madrid\n",
            "1  María García          22/11/1990  Avenida del Sol 23  Barcelona\n",
            "2   Pedro López          05/03/1978  Plaza de la Luna 5   Valencia\n"
          ]
        }
      ],
      "source": [
        "import regex\n",
        "import pandas as pd\n",
        "\n",
        "texto = \"\"\"\n",
        "Personas:\n",
        "- Juan Pérez, 15/08/1985, Calle Mayor 1, Madrid\n",
        "- María García, 22/11/1990, Avenida del Sol 23, Barcelona\n",
        "- Pedro López, 05/03/1978, Plaza de la Luna 5, Valencia\n",
        "\"\"\"\n",
        "\n",
        "patron = regex.compile(r\"- ([A-Z][a-zñáéíóú]+\\s[A-Z][a-zñáéíóú]+),\\s(\\d{2}/\\d{2}/\\d{4}),\\s(.+),\\s([A-Za-z]+)\")\n",
        "resultados = patron.findall(texto)\n",
        "df = pd.DataFrame(resultados, columns=[\"Nombre\", \"Fecha de Nacimiento\", \"Dirección\", \"Ciudad\"])\n",
        "print(df)"
      ]
    },
    {
      "cell_type": "markdown",
      "metadata": {
        "id": "0l41j06pHGry"
      },
      "source": [
        "## Ejercicio 13: Extraer nombres, URLs y descripciones\n",
        "\n",
        "En este ejercicio, debes escribir una expresión regular que extraiga nombres, URLs y descripciones del texto dado. Genera una tabla con las listas de ejemplos y el número de ejemplos.\n",
        "\n",
        "**Texto**:\n",
        "```\n",
        "texto = \"\"\"\n",
        "Enlaces:\n",
        "- Google: https://www.google.com, Motor de búsqueda\n",
        "- Wikipedia: https://www.wikipedia.org, Enciclopedia libre\n",
        "- GitHub: https://www.github.com, Plataforma de desarrollo\n",
        "\"\"\"\n",
        "```"
      ]
    },
    {
      "cell_type": "code",
      "execution_count": 13,
      "metadata": {
        "id": "Tgfl3dUrHGry",
        "colab": {
          "base_uri": "https://localhost:8080/"
        },
        "outputId": "0e34868a-d553-4d8e-a18d-5a4d1ab2bb20"
      },
      "outputs": [
        {
          "output_type": "stream",
          "name": "stdout",
          "text": [
            "      Nombre                        URL               Descripción\n",
            "0     Google     https://www.google.com         Motor de búsqueda\n",
            "1  Wikipedia  https://www.wikipedia.org        Enciclopedia libre\n",
            "2     GitHub     https://www.github.com  Plataforma de desarrollo\n"
          ]
        }
      ],
      "source": [
        "import regex\n",
        "import pandas as pd\n",
        "\n",
        "texto = \"\"\"\n",
        "Enlaces:\n",
        "- Google: https://www.google.com, Motor de búsqueda\n",
        "- Wikipedia: https://www.wikipedia.org, Enciclopedia libre\n",
        "- GitHub: https://www.github.com, Plataforma de desarrollo\n",
        "\"\"\"\n",
        "\n",
        "patron = regex.compile(r\"- ([A-Za-z]+):\\s(https?://[a-zA-Z0-9.-]+),\\s(.+)\")\n",
        "resultados = patron.findall(texto)\n",
        "df = pd.DataFrame(resultados, columns=[\"Nombre\", \"URL\", \"Descripción\"])\n",
        "print(df)"
      ]
    },
    {
      "cell_type": "markdown",
      "metadata": {
        "id": "XXc-4hbfHGry"
      },
      "source": [
        "## Ejercicio 14: Extraer hashtags y menciones\n",
        "\n",
        "En este ejercicio, debes escribir una expresión regular que extraiga hashtags y menciones del texto dado. Genera una tabla con las listas de ejemplos y el número de ejemplos.\n",
        "\n",
        "**Texto**:\n",
        "```\n",
        "tweets1 = \"\"\"\n",
        "Tweets:\n",
        "- Amo la ciencia de datos! #DataScience #Python @JuanPerez\n",
        "- Me encanta INSD en la U-Tad! #WorkHard #Focus @MariaGarcia\n",
        "- Aprendiendo expresiones regulares! #Regex #Python @PedroLopez\n",
        "- Disfrutando del fin de semana! #Relax @AnaMartinez\n",
        "- Trabajando en un nuevo proyecto! #Trabajo @LuisGomez\n",
        "\"\"\"\n",
        "```"
      ]
    },
    {
      "cell_type": "code",
      "execution_count": 14,
      "metadata": {
        "id": "bEHHjYUHHGry",
        "colab": {
          "base_uri": "https://localhost:8080/"
        },
        "outputId": "0fc4c8f2-e651-4272-dc54-c3ff7b706784"
      },
      "outputs": [
        {
          "output_type": "stream",
          "name": "stdout",
          "text": [
            "       Hashtags     Menciones\n",
            "0  #DataScience    @JuanPerez\n",
            "1       #Python  @MariaGarcia\n",
            "2     #WorkHard   @PedroLopez\n",
            "3        #Focus  @AnaMartinez\n",
            "4        #Regex    @LuisGomez\n",
            "5       #Python          None\n",
            "6        #Relax          None\n",
            "7      #Trabajo          None\n"
          ]
        }
      ],
      "source": [
        "import regex\n",
        "import pandas as pd\n",
        "\n",
        "tweets1 = \"\"\"\n",
        "Tweets:\n",
        "- Amo la ciencia de datos! #DataScience #Python @JuanPerez\n",
        "- Me encanta INSD en la U-Tad! #WorkHard #Focus @MariaGarcia\n",
        "- Aprendiendo expresiones regulares! #Regex #Python @PedroLopez\n",
        "- Disfrutando del fin de semana! #Relax @AnaMartinez\n",
        "- Trabajando en un nuevo proyecto! #Trabajo @LuisGomez\n",
        "\"\"\"\n",
        "\n",
        "patron_hashtags = regex.compile(r\"#\\w+\")\n",
        "patron_menciones = regex.compile(r\"@\\w+\")\n",
        "\n",
        "hashtags = patron_hashtags.findall(tweets1)\n",
        "menciones = patron_menciones.findall(tweets1)\n",
        "\n",
        "max_length = max(len(hashtags), len(menciones))\n",
        "hashtags.extend([None] * (max_length - len(hashtags)))\n",
        "menciones.extend([None] * (max_length - len(menciones)))\n",
        "\n",
        "df = pd.DataFrame({\n",
        "    \"Hashtags\": hashtags,\n",
        "    \"Menciones\": menciones\n",
        "})\n",
        "\n",
        "print(df)"
      ]
    },
    {
      "cell_type": "markdown",
      "metadata": {
        "id": "twrOezh7HGry"
      },
      "source": [
        "## Ejercicio 15: Extraer hashtags, menciones, emoticonos, dinero y otras palabras clave\n",
        "\n",
        "En este ejercicio, debes escribir una expresión regular que extraiga hashtags, menciones, emoticonos, dinero y otras palabras clave del texto dado. Genera una tabla con las listas de ejemplos y el número de ejemplos.\n",
        "\n",
        "**Texto**:\n",
        "```\n",
        "tweets = \"\"\"\n",
        "Tweets:\n",
        "- Amo la ciencia de datos! #DataScience #Python @JuanPerez\n",
        "- Me encanta INSD en la U-Tad! #WorkHard #Focus @MariaGarcia\n",
        "- Aprendiendo expresiones regulares! #Regex #Python @PedroLopez\n",
        "- Disfrutando del fin de semana! #Relax @AnaMartinez\n",
        "- Trabajando en un nuevo proyecto! #Trabajo @LuisGomez\n",
        "- Compré un nuevo libro por $29.99 en la tienda. #Libros\n",
        "- La entrada al concierto cuesta €50. #Música\n",
        "- He ahorrado £100 este mes. #Ahorro\n",
        "- ¡Feliz día! 😄 #Felicidad\n",
        "- Estoy triste... 😢 #Tristeza\n",
        "\"\"\"\n",
        "```"
      ]
    },
    {
      "cell_type": "code",
      "execution_count": 15,
      "metadata": {
        "id": "p1TMxR4uHGry",
        "colab": {
          "base_uri": "https://localhost:8080/"
        },
        "outputId": "33cefe93-f064-4fed-a44f-8e1b54fab953"
      },
      "outputs": [
        {
          "output_type": "stream",
          "name": "stdout",
          "text": [
            "        Hashtags     Menciones Emoticonos Dinero Palabras Clave\n",
            "0   #DataScience    @JuanPerez          😄    .99         Tweets\n",
            "1        #Python  @MariaGarcia          😢                   Amo\n",
            "2      #WorkHard   @PedroLopez       None                    la\n",
            "3         #Focus  @AnaMartinez       None   None        ciencia\n",
            "4         #Regex    @LuisGomez       None   None             de\n",
            "..           ...           ...        ...    ...            ...\n",
            "60          None          None       None   None            día\n",
            "61          None          None       None   None      Felicidad\n",
            "62          None          None       None   None          Estoy\n",
            "63          None          None       None   None         triste\n",
            "64          None          None       None   None       Tristeza\n",
            "\n",
            "[65 rows x 5 columns]\n"
          ]
        }
      ],
      "source": [
        "import regex\n",
        "import pandas as pd\n",
        "\n",
        "tweets = \"\"\"\n",
        "Tweets:\n",
        "- Amo la ciencia de datos! #DataScience #Python @JuanPerez\n",
        "- Me encanta INSD en la U-Tad! #WorkHard #Focus @MariaGarcia\n",
        "- Aprendiendo expresiones regulares! #Regex #Python @PedroLopez\n",
        "- Disfrutando del fin de semana! #Relax @AnaMartinez\n",
        "- Trabajando en un nuevo proyecto! #Trabajo @LuisGomez\n",
        "- Compré un nuevo libro por $29.99 en la tienda. #Libros\n",
        "- La entrada al concierto cuesta €50. #Música\n",
        "- He ahorrado £100 este mes. #Ahorro\n",
        "- ¡Feliz día! 😄 #Felicidad\n",
        "- Estoy triste... 😢 #Tristeza\n",
        "\"\"\"\n",
        "\n",
        "patron_hashtags = regex.compile(r\"#\\w+\")\n",
        "patron_menciones = regex.compile(r\"@\\w+\")\n",
        "patron_emoticonos = regex.compile(r\"[\\U0001F600-\\U0001F64F\\U0001F300-\\U0001F5FF\\U0001F680-\\U0001F6FF]\")\n",
        "patron_dinero = regex.compile(r\"[\\$€£]\\d+(\\.\\d{2})?\")\n",
        "patron_palabras_clave = regex.compile(r\"\\b[A-Za-zñáéíóúÑÁÉÍÓÚ]+\\b\")\n",
        "\n",
        "hashtags = patron_hashtags.findall(tweets)\n",
        "menciones = patron_menciones.findall(tweets)\n",
        "emoticonos = patron_emoticonos.findall(tweets)\n",
        "dinero = patron_dinero.findall(tweets)\n",
        "palabras_clave = patron_palabras_clave.findall(tweets)\n",
        "\n",
        "max_length = max(len(hashtags), len(menciones), len(emoticonos), len(dinero), len(palabras_clave))\n",
        "hashtags.extend([None] * (max_length - len(hashtags)))\n",
        "menciones.extend([None] * (max_length - len(menciones)))\n",
        "emoticonos.extend([None] * (max_length - len(emoticonos)))\n",
        "dinero.extend([None] * (max_length - len(dinero)))\n",
        "palabras_clave.extend([None] * (max_length - len(palabras_clave)))\n",
        "\n",
        "df = pd.DataFrame({\n",
        "    \"Hashtags\": hashtags,\n",
        "    \"Menciones\": menciones,\n",
        "    \"Emoticonos\": emoticonos,\n",
        "    \"Dinero\": dinero,\n",
        "    \"Palabras Clave\": palabras_clave\n",
        "})\n",
        "\n",
        "print(df)"
      ]
    }
  ],
  "metadata": {
    "colab": {
      "provenance": []
    },
    "language_info": {
      "name": "python"
    },
    "kernelspec": {
      "name": "python3",
      "display_name": "Python 3"
    }
  },
  "nbformat": 4,
  "nbformat_minor": 0
}