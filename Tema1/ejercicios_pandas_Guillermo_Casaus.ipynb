{
  "cells": [
    {
      "cell_type": "markdown",
      "metadata": {
        "id": "lnKId7trGB7o"
      },
      "source": [
        "# Ejercicios de Lectura de CSV\n",
        "## Ejercicio 1\n",
        "Leer el archivo CSV `datos_ejemplo.csv` y mostrar el contenido completo."
      ]
    },
    {
      "cell_type": "code",
      "execution_count": 1,
      "metadata": {
        "id": "MdWZLhSAGB7q",
        "colab": {
          "base_uri": "https://localhost:8080/"
        },
        "outputId": "533d7665-7dcf-4110-a247-0dac0628aa8f"
      },
      "outputs": [
        {
          "output_type": "stream",
          "name": "stdout",
          "text": [
            "   id  firstname   lastname                     email   birthdate\n",
            "0   1      Kerry  O'Connell         Kerry16@gmail.com  1990-01-01\n",
            "1   2      Ethel     Miller       Ethel14@hotmail.com  1985-05-12\n",
            "2   3     Willie     Barton   Willie.Barton@gmail.com  1992-07-23\n",
            "3   4      Ellis       Lowe      Ellis.Lowe@gmail.com  1988-11-30\n",
            "4   5    Raymond     Miller  Raymond.Miller@gmail.com  1991-03-15\n",
            "5   6      Ellen   Thompson       Ellen92@hotmail.com  1987-09-25\n",
            "6   7        Joe       Rice           Joe55@gmail.com  1993-12-05\n",
            "7   8  Nathaniel     Legros   Nathaniel40@hotmail.com  1986-04-18\n",
            "8   9     Maxine   Schinner      Maxine93@hotmail.com  1990-08-22\n",
            "9  10        Tim   Jacobson         Tim92@hotmail.com  1989-10-10\n"
          ]
        }
      ],
      "source": [
        "import pandas as pd\n",
        "\n",
        "df = pd.read_csv(\"datos_ejemplo.csv\")\n",
        "\n",
        "print(df)"
      ]
    },
    {
      "cell_type": "markdown",
      "metadata": {
        "id": "m_858OjsGB7r"
      },
      "source": [
        "## Ejercicio 2\n",
        "Leer el archivo CSV `datos_ejemplo.csv` y mostrar solo las columnas `firstname` y `lastname`."
      ]
    },
    {
      "cell_type": "code",
      "execution_count": 2,
      "metadata": {
        "id": "Q8Ey9s33GB7s",
        "colab": {
          "base_uri": "https://localhost:8080/"
        },
        "outputId": "0cb2b654-1eaa-4979-d421-957fe5d6efea"
      },
      "outputs": [
        {
          "output_type": "stream",
          "name": "stdout",
          "text": [
            "   firstname   lastname\n",
            "0      Kerry  O'Connell\n",
            "1      Ethel     Miller\n",
            "2     Willie     Barton\n",
            "3      Ellis       Lowe\n",
            "4    Raymond     Miller\n",
            "5      Ellen   Thompson\n",
            "6        Joe       Rice\n",
            "7  Nathaniel     Legros\n",
            "8     Maxine   Schinner\n",
            "9        Tim   Jacobson\n"
          ]
        }
      ],
      "source": [
        "print(df[['firstname', 'lastname']])"
      ]
    },
    {
      "cell_type": "markdown",
      "metadata": {
        "id": "aXUVlK2zGB7s"
      },
      "source": [
        "## Ejercicio 3\n",
        "Leer el archivo CSV `datos_ejemplo.csv`, parsear la columna `birthdate` como fechas y establecerla como índice del DataFrame."
      ]
    },
    {
      "cell_type": "code",
      "execution_count": 3,
      "metadata": {
        "id": "tPjAzzNVGB7t",
        "colab": {
          "base_uri": "https://localhost:8080/"
        },
        "outputId": "3bf43414-cd08-4725-fe38-172fd8cef4a4"
      },
      "outputs": [
        {
          "output_type": "stream",
          "name": "stdout",
          "text": [
            "            id  firstname   lastname                     email\n",
            "birthdate                                                     \n",
            "1990-01-01   1      Kerry  O'Connell         Kerry16@gmail.com\n",
            "1985-05-12   2      Ethel     Miller       Ethel14@hotmail.com\n",
            "1992-07-23   3     Willie     Barton   Willie.Barton@gmail.com\n",
            "1988-11-30   4      Ellis       Lowe      Ellis.Lowe@gmail.com\n",
            "1991-03-15   5    Raymond     Miller  Raymond.Miller@gmail.com\n",
            "1987-09-25   6      Ellen   Thompson       Ellen92@hotmail.com\n",
            "1993-12-05   7        Joe       Rice           Joe55@gmail.com\n",
            "1986-04-18   8  Nathaniel     Legros   Nathaniel40@hotmail.com\n",
            "1990-08-22   9     Maxine   Schinner      Maxine93@hotmail.com\n",
            "1989-10-10  10        Tim   Jacobson         Tim92@hotmail.com\n"
          ]
        }
      ],
      "source": [
        "df['birthdate'] = pd.to_datetime(df['birthdate'])\n",
        "df.set_index('birthdate', inplace=True)\n",
        "\n",
        "print(df)\n"
      ]
    },
    {
      "cell_type": "markdown",
      "metadata": {
        "id": "D5dgqfyQGB7t"
      },
      "source": [
        "# Ejercicios de Selección, Filtrado y Creación de Nuevos DataFrames\n",
        "## Ejercicio 1\n",
        "Seleccionar y mostrar solo las filas donde el apellido sea `Miller`."
      ]
    },
    {
      "cell_type": "code",
      "execution_count": 4,
      "metadata": {
        "id": "8S2qUkqrGB7t",
        "colab": {
          "base_uri": "https://localhost:8080/"
        },
        "outputId": "83c223ed-604a-4b38-b9da-5b078539c160"
      },
      "outputs": [
        {
          "output_type": "stream",
          "name": "stdout",
          "text": [
            "            id firstname lastname                     email\n",
            "birthdate                                                  \n",
            "1985-05-12   2     Ethel   Miller       Ethel14@hotmail.com\n",
            "1991-03-15   5   Raymond   Miller  Raymond.Miller@gmail.com\n"
          ]
        }
      ],
      "source": [
        "rows = df[df['lastname'] == 'Miller']\n",
        "print(rows)\n"
      ]
    },
    {
      "cell_type": "markdown",
      "metadata": {
        "id": "9Sau2-lqGB7t"
      },
      "source": [
        "## Ejercicio 2\n",
        "Seleccionar y mostrar solo las filas donde la fecha de nacimiento sea posterior a `1990-01-01`."
      ]
    },
    {
      "cell_type": "code",
      "execution_count": 10,
      "metadata": {
        "id": "hmWlZ0irGB7u",
        "colab": {
          "base_uri": "https://localhost:8080/"
        },
        "outputId": "0a8ac038-eea2-43e8-99e2-9acbde53603d"
      },
      "outputs": [
        {
          "output_type": "stream",
          "name": "stdout",
          "text": [
            "            id firstname  lastname                     email\n",
            "birthdate                                                   \n",
            "1992-07-23   3    Willie    Barton   Willie.Barton@gmail.com\n",
            "1991-03-15   5   Raymond    Miller  Raymond.Miller@gmail.com\n",
            "1993-12-05   7       Joe      Rice           Joe55@gmail.com\n",
            "1990-08-22   9    Maxine  Schinner      Maxine93@hotmail.com\n"
          ]
        }
      ],
      "source": [
        "rows = df[df.index > '1990-01-01']\n",
        "print(rows)"
      ]
    },
    {
      "cell_type": "markdown",
      "metadata": {
        "id": "MaGsLowbGB7u"
      },
      "source": [
        "## Ejercicio 3\n",
        "Crear un nuevo DataFrame con una columna adicional `fullname` que contenga el nombre completo (`firstname` + `lastname`)."
      ]
    },
    {
      "cell_type": "code",
      "execution_count": 11,
      "metadata": {
        "id": "dg4aJd3uGB7u",
        "colab": {
          "base_uri": "https://localhost:8080/"
        },
        "outputId": "eb32b582-7245-465c-c095-37070e874eac"
      },
      "outputs": [
        {
          "output_type": "stream",
          "name": "stdout",
          "text": [
            "            id  firstname   lastname                     email  \\\n",
            "birthdate                                                        \n",
            "1990-01-01   1      Kerry  O'Connell         Kerry16@gmail.com   \n",
            "1985-05-12   2      Ethel     Miller       Ethel14@hotmail.com   \n",
            "1992-07-23   3     Willie     Barton   Willie.Barton@gmail.com   \n",
            "1988-11-30   4      Ellis       Lowe      Ellis.Lowe@gmail.com   \n",
            "1991-03-15   5    Raymond     Miller  Raymond.Miller@gmail.com   \n",
            "1987-09-25   6      Ellen   Thompson       Ellen92@hotmail.com   \n",
            "1993-12-05   7        Joe       Rice           Joe55@gmail.com   \n",
            "1986-04-18   8  Nathaniel     Legros   Nathaniel40@hotmail.com   \n",
            "1990-08-22   9     Maxine   Schinner      Maxine93@hotmail.com   \n",
            "1989-10-10  10        Tim   Jacobson         Tim92@hotmail.com   \n",
            "\n",
            "                    fullname  \n",
            "birthdate                     \n",
            "1990-01-01   Kerry O'Connell  \n",
            "1985-05-12      Ethel Miller  \n",
            "1992-07-23     Willie Barton  \n",
            "1988-11-30        Ellis Lowe  \n",
            "1991-03-15    Raymond Miller  \n",
            "1987-09-25    Ellen Thompson  \n",
            "1993-12-05          Joe Rice  \n",
            "1986-04-18  Nathaniel Legros  \n",
            "1990-08-22   Maxine Schinner  \n",
            "1989-10-10      Tim Jacobson  \n"
          ]
        }
      ],
      "source": [
        "df['fullname'] = df['firstname'] + ' ' + df['lastname']\n",
        "print(df)\n"
      ]
    },
    {
      "cell_type": "markdown",
      "metadata": {
        "id": "aBh1te_NGB7v"
      },
      "source": [
        "## Ejercicio 4\n",
        "Seleccionar y mostrar solo las filas donde el nombre sea `Ellen`."
      ]
    },
    {
      "cell_type": "code",
      "execution_count": 12,
      "metadata": {
        "id": "TOgHsA8NGB7v",
        "colab": {
          "base_uri": "https://localhost:8080/"
        },
        "outputId": "4a18b515-4af7-413d-c7b6-769bded4599a"
      },
      "outputs": [
        {
          "output_type": "stream",
          "name": "stdout",
          "text": [
            "            id firstname  lastname                email        fullname\n",
            "birthdate                                                              \n",
            "1987-09-25   6     Ellen  Thompson  Ellen92@hotmail.com  Ellen Thompson\n"
          ]
        }
      ],
      "source": [
        "rows = df[df['firstname'] == 'Ellen']\n",
        "print(rows)"
      ]
    },
    {
      "cell_type": "markdown",
      "metadata": {
        "id": "AeHtgGYyGB7v"
      },
      "source": [
        "## Ejercicio 5\n",
        "Seleccionar y mostrar solo las filas donde el correo electrónico contenga `gmail.com`."
      ]
    },
    {
      "cell_type": "code",
      "execution_count": 13,
      "metadata": {
        "id": "m_MUX-lFGB7v",
        "colab": {
          "base_uri": "https://localhost:8080/"
        },
        "outputId": "1b717a01-5047-4cae-c19f-a69445734b6c"
      },
      "outputs": [
        {
          "output_type": "stream",
          "name": "stdout",
          "text": [
            "            id firstname   lastname                     email         fullname\n",
            "birthdate                                                                     \n",
            "1990-01-01   1     Kerry  O'Connell         Kerry16@gmail.com  Kerry O'Connell\n",
            "1992-07-23   3    Willie     Barton   Willie.Barton@gmail.com    Willie Barton\n",
            "1988-11-30   4     Ellis       Lowe      Ellis.Lowe@gmail.com       Ellis Lowe\n",
            "1991-03-15   5   Raymond     Miller  Raymond.Miller@gmail.com   Raymond Miller\n",
            "1993-12-05   7       Joe       Rice           Joe55@gmail.com         Joe Rice\n"
          ]
        }
      ],
      "source": [
        "rows = df[df['email'].str.contains('gmail.com', na=False)]\n",
        "\n",
        "print(rows)\n"
      ]
    },
    {
      "cell_type": "markdown",
      "metadata": {
        "id": "cUuM4hayGB7w"
      },
      "source": [
        "## Ejercicio 6\n",
        "Crear un nuevo DataFrame con una columna adicional `age` que contenga la edad calculada a partir de la fecha de nacimiento."
      ]
    },
    {
      "cell_type": "code",
      "execution_count": 19,
      "metadata": {
        "id": "35nvayyGGB7w",
        "colab": {
          "base_uri": "https://localhost:8080/"
        },
        "outputId": "450a1e9e-e2a7-4da0-b08c-97677fbef09f"
      },
      "outputs": [
        {
          "output_type": "stream",
          "name": "stdout",
          "text": [
            "            id  firstname   lastname                     email  \\\n",
            "birthdate                                                        \n",
            "1990-01-01   1      Kerry  O'Connell         Kerry16@gmail.com   \n",
            "1985-05-12   2      Ethel     Miller       Ethel14@hotmail.com   \n",
            "1992-07-23   3     Willie     Barton   Willie.Barton@gmail.com   \n",
            "1988-11-30   4      Ellis       Lowe      Ellis.Lowe@gmail.com   \n",
            "1991-03-15   5    Raymond     Miller  Raymond.Miller@gmail.com   \n",
            "1987-09-25   6      Ellen   Thompson       Ellen92@hotmail.com   \n",
            "1993-12-05   7        Joe       Rice           Joe55@gmail.com   \n",
            "1986-04-18   8  Nathaniel     Legros   Nathaniel40@hotmail.com   \n",
            "1990-08-22   9     Maxine   Schinner      Maxine93@hotmail.com   \n",
            "1989-10-10  10        Tim   Jacobson         Tim92@hotmail.com   \n",
            "\n",
            "                    fullname  birthdate  age  \n",
            "birthdate                                     \n",
            "1990-01-01   Kerry O'Connell 1990-01-01   35  \n",
            "1985-05-12      Ethel Miller 1985-05-12   39  \n",
            "1992-07-23     Willie Barton 1992-07-23   32  \n",
            "1988-11-30        Ellis Lowe 1988-11-30   36  \n",
            "1991-03-15    Raymond Miller 1991-03-15   33  \n",
            "1987-09-25    Ellen Thompson 1987-09-25   37  \n",
            "1993-12-05          Joe Rice 1993-12-05   31  \n",
            "1986-04-18  Nathaniel Legros 1986-04-18   38  \n",
            "1990-08-22   Maxine Schinner 1990-08-22   34  \n",
            "1989-10-10      Tim Jacobson 1989-10-10   35  \n"
          ]
        }
      ],
      "source": [
        "df['age'] = (pd.Timestamp.now() - df['birthdate']).dt.days // 365\n",
        "print(df)\n"
      ]
    },
    {
      "cell_type": "markdown",
      "metadata": {
        "id": "X4nNmcMyGB7w"
      },
      "source": [
        "## Ejercicio 7\n",
        "Seleccionar y mostrar solo las filas donde la edad sea mayor a 30 años."
      ]
    },
    {
      "cell_type": "code",
      "execution_count": 21,
      "metadata": {
        "id": "2oKkMxQUGB7w",
        "colab": {
          "base_uri": "https://localhost:8080/"
        },
        "outputId": "a5bf01e4-eca0-4173-f59a-c566795619cb"
      },
      "outputs": [
        {
          "output_type": "stream",
          "name": "stdout",
          "text": [
            "            id  firstname   lastname                     email  \\\n",
            "birthdate                                                        \n",
            "1990-01-01   1      Kerry  O'Connell         Kerry16@gmail.com   \n",
            "1985-05-12   2      Ethel     Miller       Ethel14@hotmail.com   \n",
            "1992-07-23   3     Willie     Barton   Willie.Barton@gmail.com   \n",
            "1988-11-30   4      Ellis       Lowe      Ellis.Lowe@gmail.com   \n",
            "1991-03-15   5    Raymond     Miller  Raymond.Miller@gmail.com   \n",
            "1987-09-25   6      Ellen   Thompson       Ellen92@hotmail.com   \n",
            "1993-12-05   7        Joe       Rice           Joe55@gmail.com   \n",
            "1986-04-18   8  Nathaniel     Legros   Nathaniel40@hotmail.com   \n",
            "1990-08-22   9     Maxine   Schinner      Maxine93@hotmail.com   \n",
            "1989-10-10  10        Tim   Jacobson         Tim92@hotmail.com   \n",
            "\n",
            "                    fullname  birthdate  age  \n",
            "birthdate                                     \n",
            "1990-01-01   Kerry O'Connell 1990-01-01   35  \n",
            "1985-05-12      Ethel Miller 1985-05-12   39  \n",
            "1992-07-23     Willie Barton 1992-07-23   32  \n",
            "1988-11-30        Ellis Lowe 1988-11-30   36  \n",
            "1991-03-15    Raymond Miller 1991-03-15   33  \n",
            "1987-09-25    Ellen Thompson 1987-09-25   37  \n",
            "1993-12-05          Joe Rice 1993-12-05   31  \n",
            "1986-04-18  Nathaniel Legros 1986-04-18   38  \n",
            "1990-08-22   Maxine Schinner 1990-08-22   34  \n",
            "1989-10-10      Tim Jacobson 1989-10-10   35  \n"
          ]
        }
      ],
      "source": [
        "rows = df[df['age'] > 30]\n",
        "print(rows)"
      ]
    },
    {
      "cell_type": "markdown",
      "metadata": {
        "id": "VgejttlbGB7w"
      },
      "source": [
        "## Ejercicio 8\n",
        "Seleccionar y mostrar solo las filas donde el nombre completo contenga `Miller`."
      ]
    },
    {
      "cell_type": "code",
      "execution_count": 22,
      "metadata": {
        "id": "8V9rAnsAGB7x",
        "colab": {
          "base_uri": "https://localhost:8080/"
        },
        "outputId": "8c66fd73-c8fa-4076-e07c-a2f388820eed"
      },
      "outputs": [
        {
          "output_type": "stream",
          "name": "stdout",
          "text": [
            "            id firstname lastname                     email        fullname  \\\n",
            "birthdate                                                                     \n",
            "1985-05-12   2     Ethel   Miller       Ethel14@hotmail.com    Ethel Miller   \n",
            "1991-03-15   5   Raymond   Miller  Raymond.Miller@gmail.com  Raymond Miller   \n",
            "\n",
            "            birthdate  age  \n",
            "birthdate                   \n",
            "1985-05-12 1985-05-12   39  \n",
            "1991-03-15 1991-03-15   33  \n"
          ]
        }
      ],
      "source": [
        "rows = df[df['fullname'].str.contains('Miller', na=False)]\n",
        "print(rows)\n"
      ]
    },
    {
      "cell_type": "markdown",
      "metadata": {
        "id": "QOcNfLIWGB7x"
      },
      "source": [
        "## Ejercicio 9\n",
        "Crear un nuevo DataFrame con una columna adicional `domain` que contenga el dominio del correo electrónico."
      ]
    },
    {
      "cell_type": "code",
      "execution_count": 23,
      "metadata": {
        "id": "_p1IGxWWGB7x",
        "colab": {
          "base_uri": "https://localhost:8080/"
        },
        "outputId": "20e218e0-d782-4e82-8c4b-ffc560ea85a2"
      },
      "outputs": [
        {
          "output_type": "stream",
          "name": "stdout",
          "text": [
            "            id  firstname   lastname                     email  \\\n",
            "birthdate                                                        \n",
            "1990-01-01   1      Kerry  O'Connell         Kerry16@gmail.com   \n",
            "1985-05-12   2      Ethel     Miller       Ethel14@hotmail.com   \n",
            "1992-07-23   3     Willie     Barton   Willie.Barton@gmail.com   \n",
            "1988-11-30   4      Ellis       Lowe      Ellis.Lowe@gmail.com   \n",
            "1991-03-15   5    Raymond     Miller  Raymond.Miller@gmail.com   \n",
            "1987-09-25   6      Ellen   Thompson       Ellen92@hotmail.com   \n",
            "1993-12-05   7        Joe       Rice           Joe55@gmail.com   \n",
            "1986-04-18   8  Nathaniel     Legros   Nathaniel40@hotmail.com   \n",
            "1990-08-22   9     Maxine   Schinner      Maxine93@hotmail.com   \n",
            "1989-10-10  10        Tim   Jacobson         Tim92@hotmail.com   \n",
            "\n",
            "                    fullname  birthdate  age       domain  \n",
            "birthdate                                                  \n",
            "1990-01-01   Kerry O'Connell 1990-01-01   35    gmail.com  \n",
            "1985-05-12      Ethel Miller 1985-05-12   39  hotmail.com  \n",
            "1992-07-23     Willie Barton 1992-07-23   32    gmail.com  \n",
            "1988-11-30        Ellis Lowe 1988-11-30   36    gmail.com  \n",
            "1991-03-15    Raymond Miller 1991-03-15   33    gmail.com  \n",
            "1987-09-25    Ellen Thompson 1987-09-25   37  hotmail.com  \n",
            "1993-12-05          Joe Rice 1993-12-05   31    gmail.com  \n",
            "1986-04-18  Nathaniel Legros 1986-04-18   38  hotmail.com  \n",
            "1990-08-22   Maxine Schinner 1990-08-22   34  hotmail.com  \n",
            "1989-10-10      Tim Jacobson 1989-10-10   35  hotmail.com  \n"
          ]
        }
      ],
      "source": [
        "df['domain'] = df['email'].str.split('@').str[1]\n",
        "print(df)\n"
      ]
    },
    {
      "cell_type": "markdown",
      "metadata": {
        "id": "29diaxh2GB7x"
      },
      "source": [
        "## Ejercicio 10\n",
        "Seleccionar y mostrar solo las filas donde el dominio del correo electrónico sea `hotmail.com`."
      ]
    },
    {
      "cell_type": "code",
      "execution_count": 24,
      "metadata": {
        "id": "IG28SJO-GB7x",
        "colab": {
          "base_uri": "https://localhost:8080/"
        },
        "outputId": "ad3ab4c9-2062-47d9-ebf2-5afde29286b8"
      },
      "outputs": [
        {
          "output_type": "stream",
          "name": "stdout",
          "text": [
            "            id  firstname  lastname                    email  \\\n",
            "birthdate                                                      \n",
            "1985-05-12   2      Ethel    Miller      Ethel14@hotmail.com   \n",
            "1987-09-25   6      Ellen  Thompson      Ellen92@hotmail.com   \n",
            "1986-04-18   8  Nathaniel    Legros  Nathaniel40@hotmail.com   \n",
            "1990-08-22   9     Maxine  Schinner     Maxine93@hotmail.com   \n",
            "1989-10-10  10        Tim  Jacobson        Tim92@hotmail.com   \n",
            "\n",
            "                    fullname  birthdate  age       domain  \n",
            "birthdate                                                  \n",
            "1985-05-12      Ethel Miller 1985-05-12   39  hotmail.com  \n",
            "1987-09-25    Ellen Thompson 1987-09-25   37  hotmail.com  \n",
            "1986-04-18  Nathaniel Legros 1986-04-18   38  hotmail.com  \n",
            "1990-08-22   Maxine Schinner 1990-08-22   34  hotmail.com  \n",
            "1989-10-10      Tim Jacobson 1989-10-10   35  hotmail.com  \n"
          ]
        }
      ],
      "source": [
        "hotmail_rows = df[df['domain'] == 'hotmail.com']\n",
        "\n",
        "print(hotmail_rows)\n"
      ]
    },
    {
      "cell_type": "markdown",
      "metadata": {
        "id": "Ge2fLSSAGB7x"
      },
      "source": [
        "# Ejercicios de Agrupación, Ordenación y Unión\n",
        "## Ejercicio 1\n",
        "Agrupar por apellido y contar el número de ocurrencias de cada apellido."
      ]
    },
    {
      "cell_type": "code",
      "execution_count": 25,
      "metadata": {
        "id": "R36R-8SiGB7y",
        "colab": {
          "base_uri": "https://localhost:8080/"
        },
        "outputId": "aa77b395-2c8a-4bb5-ee91-72e40c4beb07"
      },
      "outputs": [
        {
          "output_type": "stream",
          "name": "stdout",
          "text": [
            "lastname\n",
            "Barton       1\n",
            "Jacobson     1\n",
            "Legros       1\n",
            "Lowe         1\n",
            "Miller       2\n",
            "O'Connell    1\n",
            "Rice         1\n",
            "Schinner     1\n",
            "Thompson     1\n",
            "dtype: int64\n"
          ]
        }
      ],
      "source": [
        "lastname_counts = df.groupby('lastname').size()\n",
        "\n",
        "print(lastname_counts)\n"
      ]
    },
    {
      "cell_type": "markdown",
      "metadata": {
        "id": "TXFP_czIGB7y"
      },
      "source": [
        "## Ejercicio 2\n",
        "Ordenar el DataFrame por fecha de nacimiento en orden ascendente."
      ]
    },
    {
      "cell_type": "code",
      "execution_count": 32,
      "metadata": {
        "id": "AfqoAIMBGB7y",
        "colab": {
          "base_uri": "https://localhost:8080/"
        },
        "outputId": "324a2301-fc1f-472a-e43e-890b46bbd19d"
      },
      "outputs": [
        {
          "output_type": "stream",
          "name": "stdout",
          "text": [
            "birthdate\n",
            "1985-05-12   1985-05-12\n",
            "1986-04-18   1986-04-18\n",
            "1987-09-25   1987-09-25\n",
            "1988-11-30   1988-11-30\n",
            "1989-10-10   1989-10-10\n",
            "1990-01-01   1990-01-01\n",
            "1990-08-22   1990-08-22\n",
            "1991-03-15   1991-03-15\n",
            "1992-07-23   1992-07-23\n",
            "1993-12-05   1993-12-05\n",
            "Name: birthdate, dtype: datetime64[ns]\n"
          ]
        }
      ],
      "source": [
        "df_sorted = df['birthdate'].sort_index()\n",
        "\n",
        "print(df_sorted)\n"
      ]
    },
    {
      "cell_type": "markdown",
      "metadata": {
        "id": "ZvUsiuy_GB7y"
      },
      "source": [
        "## Ejercicio 3\n",
        "Unir dos DataFrames creados a partir del archivo CSV original."
      ]
    },
    {
      "cell_type": "code",
      "execution_count": 33,
      "metadata": {
        "id": "EDhNBpR4GB7y",
        "colab": {
          "base_uri": "https://localhost:8080/"
        },
        "outputId": "594bd21f-7df2-4795-ae51-5140eb2b9cf3"
      },
      "outputs": [
        {
          "output_type": "stream",
          "name": "stdout",
          "text": [
            "            id  firstname   lastname                     email  \\\n",
            "birthdate                                                        \n",
            "1990-01-01   1      Kerry  O'Connell         Kerry16@gmail.com   \n",
            "1985-05-12   2      Ethel     Miller       Ethel14@hotmail.com   \n",
            "1992-07-23   3     Willie     Barton   Willie.Barton@gmail.com   \n",
            "1988-11-30   4      Ellis       Lowe      Ellis.Lowe@gmail.com   \n",
            "1991-03-15   5    Raymond     Miller  Raymond.Miller@gmail.com   \n",
            "1987-09-25   6      Ellen   Thompson       Ellen92@hotmail.com   \n",
            "1993-12-05   7        Joe       Rice           Joe55@gmail.com   \n",
            "1986-04-18   8  Nathaniel     Legros   Nathaniel40@hotmail.com   \n",
            "1990-08-22   9     Maxine   Schinner      Maxine93@hotmail.com   \n",
            "1989-10-10  10        Tim   Jacobson         Tim92@hotmail.com   \n",
            "\n",
            "                    fullname  birthdate  age       domain  \n",
            "birthdate                                                  \n",
            "1990-01-01   Kerry O'Connell 1990-01-01   35    gmail.com  \n",
            "1985-05-12      Ethel Miller 1985-05-12   39  hotmail.com  \n",
            "1992-07-23     Willie Barton 1992-07-23   32    gmail.com  \n",
            "1988-11-30        Ellis Lowe 1988-11-30   36    gmail.com  \n",
            "1991-03-15    Raymond Miller 1991-03-15   33    gmail.com  \n",
            "1987-09-25    Ellen Thompson 1987-09-25   37  hotmail.com  \n",
            "1993-12-05          Joe Rice 1993-12-05   31    gmail.com  \n",
            "1986-04-18  Nathaniel Legros 1986-04-18   38  hotmail.com  \n",
            "1990-08-22   Maxine Schinner 1990-08-22   34  hotmail.com  \n",
            "1989-10-10      Tim Jacobson 1989-10-10   35  hotmail.com  \n"
          ]
        }
      ],
      "source": [
        "df1 = df.iloc[:len(df)//2]\n",
        "df2 = df.iloc[len(df)//2:]\n",
        "\n",
        "df_combined = pd.concat([df1, df2])\n",
        "\n",
        "print(df_combined)\n"
      ]
    },
    {
      "cell_type": "markdown",
      "metadata": {
        "id": "pmsEV6DiGB7z"
      },
      "source": [
        "## Ejercicio 4\n",
        "Agrupar por dominio del correo electrónico y contar el número de ocurrencias de cada dominio."
      ]
    },
    {
      "cell_type": "code",
      "execution_count": 34,
      "metadata": {
        "id": "3Mp6IGBmGB7z",
        "colab": {
          "base_uri": "https://localhost:8080/"
        },
        "outputId": "8f89b19a-70c3-42ee-985e-537307fc2925"
      },
      "outputs": [
        {
          "output_type": "stream",
          "name": "stdout",
          "text": [
            "domain\n",
            "gmail.com      5\n",
            "hotmail.com    5\n",
            "dtype: int64\n"
          ]
        }
      ],
      "source": [
        "domain_counts = df.groupby('domain').size()\n",
        "\n",
        "print(domain_counts)"
      ]
    },
    {
      "cell_type": "markdown",
      "metadata": {
        "id": "pPYCR2iNGB7z"
      },
      "source": [
        "## Ejercicio 5\n",
        "Ordenar el DataFrame por nombre completo en orden descendente."
      ]
    },
    {
      "cell_type": "code",
      "execution_count": 40,
      "metadata": {
        "id": "awlgjsblGB7z",
        "colab": {
          "base_uri": "https://localhost:8080/"
        },
        "outputId": "b9f2a78a-6fa2-429a-af90-ef26b76d559b"
      },
      "outputs": [
        {
          "output_type": "stream",
          "name": "stdout",
          "text": [
            "           fullname\n",
            "0     Willie Barton\n",
            "1      Tim Jacobson\n",
            "2    Raymond Miller\n",
            "3  Nathaniel Legros\n",
            "4   Maxine Schinner\n",
            "5   Kerry O'Connell\n",
            "6          Joe Rice\n",
            "7      Ethel Miller\n",
            "8        Ellis Lowe\n",
            "9    Ellen Thompson\n"
          ]
        }
      ],
      "source": [
        "df_fullname = df.sort_values(by='fullname', ascending=False)\n",
        "\n",
        "print(df_fullname[['fullname']].reset_index(drop=True))\n"
      ]
    },
    {
      "cell_type": "markdown",
      "metadata": {
        "id": "rK85agnpGB7z"
      },
      "source": [
        "## Ejercicio 6\n",
        "Unir dos DataFrames utilizando la columna `id` como clave."
      ]
    },
    {
      "cell_type": "code",
      "source": [
        "df_merged = pd.merge(df1, df2, on='id', how='inner')\n",
        "\n",
        "print(df_merged)\n",
        "\n"
      ],
      "metadata": {
        "colab": {
          "base_uri": "https://localhost:8080/"
        },
        "id": "BnzfC-2mmdm4",
        "outputId": "b16ab904-a3e0-48ae-8356-6beea15e746a"
      },
      "execution_count": 43,
      "outputs": [
        {
          "output_type": "stream",
          "name": "stdout",
          "text": [
            "   id value1 value2\n",
            "0   2      B      X\n",
            "1   3      C      Y\n"
          ]
        }
      ]
    },
    {
      "cell_type": "markdown",
      "metadata": {
        "id": "VdXsjCHvGB7z"
      },
      "source": [
        "## Ejercicio 7\n",
        "Agrupar por año de nacimiento y contar el número de ocurrencias de cada año."
      ]
    },
    {
      "cell_type": "code",
      "execution_count": 45,
      "metadata": {
        "id": "4BhqkEa2GB70",
        "colab": {
          "base_uri": "https://localhost:8080/"
        },
        "outputId": "ac9ad583-a673-4a76-aa45-52d938befdae"
      },
      "outputs": [
        {
          "output_type": "stream",
          "name": "stdout",
          "text": [
            "year\n",
            "1985    1\n",
            "1986    1\n",
            "1987    1\n",
            "1988    1\n",
            "1989    1\n",
            "1990    2\n",
            "1991    1\n",
            "1992    1\n",
            "1993    1\n",
            "dtype: int64\n"
          ]
        }
      ],
      "source": [
        "df['birthdate'] = pd.to_datetime(df['birthdate'])\n",
        "\n",
        "df['year'] = df['birthdate'].dt.year\n",
        "\n",
        "cont_anios = df.groupby('year').size()\n",
        "\n",
        "print(cont_anios)\n"
      ]
    },
    {
      "cell_type": "markdown",
      "metadata": {
        "id": "rG_u1WtMGB70"
      },
      "source": [
        "## Ejercicio 8\n",
        "Ordenar el DataFrame por apellido en orden ascendente y luego por nombre en orden descendente."
      ]
    },
    {
      "cell_type": "code",
      "execution_count": 49,
      "metadata": {
        "id": "psGE6pRLGB70",
        "colab": {
          "base_uri": "https://localhost:8080/"
        },
        "outputId": "c0b377ca-866c-4113-83e2-b438a7675b90"
      },
      "outputs": [
        {
          "output_type": "stream",
          "name": "stdout",
          "text": [
            "    lastname  firstname\n",
            "0     Barton     Willie\n",
            "1   Jacobson        Tim\n",
            "2     Legros  Nathaniel\n",
            "3       Lowe      Ellis\n",
            "4     Miller    Raymond\n",
            "5     Miller      Ethel\n",
            "6  O'Connell      Kerry\n",
            "7       Rice        Joe\n",
            "8   Schinner     Maxine\n",
            "9   Thompson      Ellen\n"
          ]
        }
      ],
      "source": [
        "df = df.sort_values(by=['lastname', 'firstname'], ascending=[True, False])\n",
        "print(df[['lastname', 'firstname']].reset_index(drop=True))\n"
      ]
    },
    {
      "cell_type": "markdown",
      "metadata": {
        "id": "g9gkXkO6GB70"
      },
      "source": [
        "## Ejercicio 9\n",
        "Unir dos DataFrames utilizando la columna `email` como clave."
      ]
    },
    {
      "cell_type": "code",
      "execution_count": 53,
      "metadata": {
        "id": "-sA47yYfGB71",
        "colab": {
          "base_uri": "https://localhost:8080/"
        },
        "outputId": "0a28a0f0-94e0-4941-90b6-e72b6dee1595"
      },
      "outputs": [
        {
          "output_type": "stream",
          "name": "stdout",
          "text": [
            "   id_x firstname_x lastname_x                     email birthdate_x  id_y  \\\n",
            "0     1       Kerry  O'Connell         Kerry16@gmail.com  1990-01-01     1   \n",
            "1     2       Ethel     Miller       Ethel14@hotmail.com  1985-05-12     2   \n",
            "2     3      Willie     Barton   Willie.Barton@gmail.com  1992-07-23     3   \n",
            "3     4       Ellis       Lowe      Ellis.Lowe@gmail.com  1988-11-30     4   \n",
            "4     5     Raymond     Miller  Raymond.Miller@gmail.com  1991-03-15     5   \n",
            "5     6       Ellen   Thompson       Ellen92@hotmail.com  1987-09-25     6   \n",
            "6     7         Joe       Rice           Joe55@gmail.com  1993-12-05     7   \n",
            "7     8   Nathaniel     Legros   Nathaniel40@hotmail.com  1986-04-18     8   \n",
            "8     9      Maxine   Schinner      Maxine93@hotmail.com  1990-08-22     9   \n",
            "9    10         Tim   Jacobson         Tim92@hotmail.com  1989-10-10    10   \n",
            "\n",
            "  firstname_y lastname_y birthdate_y  \n",
            "0       Kerry  O'Connell  1990-01-01  \n",
            "1       Ethel     Miller  1985-05-12  \n",
            "2      Willie     Barton  1992-07-23  \n",
            "3       Ellis       Lowe  1988-11-30  \n",
            "4     Raymond     Miller  1991-03-15  \n",
            "5       Ellen   Thompson  1987-09-25  \n",
            "6         Joe       Rice  1993-12-05  \n",
            "7   Nathaniel     Legros  1986-04-18  \n",
            "8      Maxine   Schinner  1990-08-22  \n",
            "9         Tim   Jacobson  1989-10-10  \n"
          ]
        }
      ],
      "source": [
        "df1 = pd.read_csv(\"/content/datos_ejemplo.csv\")\n",
        "df2 = pd.read_csv(\"/content/datos_ejemplo.csv\")\n",
        "\n",
        "df_merged = pd.merge(df1, df2, on='email', how='inner')\n",
        "\n",
        "print(df_merged)\n"
      ]
    },
    {
      "cell_type": "markdown",
      "metadata": {
        "id": "cULUvcU6GB71"
      },
      "source": [
        "## Ejercicio 10\n",
        "Agrupar por nombre y contar el número de ocurrencias de cada nombre."
      ]
    },
    {
      "cell_type": "code",
      "execution_count": 54,
      "metadata": {
        "id": "MLvYccrwGB71",
        "colab": {
          "base_uri": "https://localhost:8080/"
        },
        "outputId": "7eb2b794-547d-4186-a3f1-c6f6b1783e38"
      },
      "outputs": [
        {
          "output_type": "stream",
          "name": "stdout",
          "text": [
            "firstname\n",
            "Ellen        1\n",
            "Ellis        1\n",
            "Ethel        1\n",
            "Joe          1\n",
            "Kerry        1\n",
            "Maxine       1\n",
            "Nathaniel    1\n",
            "Raymond      1\n",
            "Tim          1\n",
            "Willie       1\n",
            "dtype: int64\n"
          ]
        }
      ],
      "source": [
        "name_counts = df.groupby('firstname').size()\n",
        "\n",
        "print(name_counts)\n"
      ]
    }
  ],
  "metadata": {
    "kernelspec": {
      "display_name": "Python 3",
      "language": "python",
      "name": "python3"
    },
    "language_info": {
      "codemirror_mode": {
        "name": "ipython",
        "version": 3
      },
      "file_extension": ".py",
      "mimetype": "text/x-python",
      "name": "python",
      "nbconvert_exporter": "python",
      "pygments_lexer": "ipython3",
      "version": "3.8.8"
    },
    "colab": {
      "provenance": []
    }
  },
  "nbformat": 4,
  "nbformat_minor": 0
}